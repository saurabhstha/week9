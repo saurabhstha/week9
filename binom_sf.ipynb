{
 "cells": [
  {
   "cell_type": "code",
   "execution_count": 6,
   "id": "e695f9df",
   "metadata": {},
   "outputs": [],
   "source": [
    "#import dependecies\n",
    "from scipy.stats import binom\n",
    "import numpy as np"
   ]
  },
  {
   "cell_type": "code",
   "execution_count": 25,
   "id": "e5eb5d57",
   "metadata": {},
   "outputs": [],
   "source": [
    "#binomial distribution with survival function method\n",
    "def binom_sf(n,p):\n",
    "    k= np.floor(n/2)\n",
    "    return binom.sf(k,n,p)"
   ]
  },
  {
   "cell_type": "code",
   "execution_count": 26,
   "id": "e106c5d8",
   "metadata": {},
   "outputs": [
    {
     "data": {
      "text/plain": [
       "0.011654205440000008"
      ]
     },
     "execution_count": 26,
     "metadata": {},
     "output_type": "execute_result"
    }
   ],
   "source": [
    "#1 11 models with error rate of .2\n",
    "binom_sf(11,0.2)"
   ]
  },
  {
   "cell_type": "code",
   "execution_count": 27,
   "id": "44eff098",
   "metadata": {},
   "outputs": [
    {
     "data": {
      "text/plain": [
       "0.47294772571497473"
      ]
     },
     "execution_count": 27,
     "metadata": {},
     "output_type": "execute_result"
    }
   ],
   "source": [
    "#1 11 models with error rate of .49\n",
    "binom_sf(11, .49)"
   ]
  },
  {
   "cell_type": "code",
   "execution_count": 28,
   "id": "22642348",
   "metadata": {},
   "outputs": [
    {
     "data": {
      "text/plain": [
       "0.4630479010127354"
      ]
     },
     "execution_count": 28,
     "metadata": {},
     "output_type": "execute_result"
    }
   ],
   "source": [
    "#3 21 models with error rate of .49\n",
    "binom_sf(21, .49)"
   ]
  }
 ],
 "metadata": {
  "kernelspec": {
   "display_name": "Python 3",
   "language": "python",
   "name": "python3"
  },
  "language_info": {
   "codemirror_mode": {
    "name": "ipython",
    "version": 3
   },
   "file_extension": ".py",
   "mimetype": "text/x-python",
   "name": "python",
   "nbconvert_exporter": "python",
   "pygments_lexer": "ipython3",
   "version": "3.8.11"
  }
 },
 "nbformat": 4,
 "nbformat_minor": 5
}
